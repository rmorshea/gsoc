{
 "cells": [
  {
   "cell_type": "code",
   "execution_count": 1,
   "metadata": {
    "collapsed": true
   },
   "outputs": [],
   "source": [
    "from traitlets import *"
   ]
  },
  {
   "cell_type": "markdown",
   "metadata": {},
   "source": [
    "# How Not To Implement Stale and PChanged"
   ]
  },
  {
   "cell_type": "code",
   "execution_count": null,
   "metadata": {
    "collapsed": true
   },
   "outputs": [],
   "source": [
    "class Artist(HasTraits):\n",
    "\n",
    "    i = Int().tag(prop=True, perishable=True)\n",
    "    j = Unicode().tag(prop=True)\n",
    "\n",
    "    def add_callback(self, function):\n",
    "        self.observe(function, tags=dict(prop=True))\n",
    "\n",
    "    @observe(tags=dict(perishable=True))\n",
    "    def _object_became_stale(self, change):\n",
    "        self.stale = True\n"
   ]
  },
  {
   "cell_type": "markdown",
   "metadata": {},
   "source": [
    "# How to do it right"
   ]
  },
  {
   "cell_type": "markdown",
   "metadata": {},
   "source": [
    "Given that we know that a trait \"wrapper\" is a good way to solve the problems associated with stale and pchanged, how do we go about creating one? First things first - we need to know how are traits initialized so that we can replicate that process.\n",
    "\n",
    "## Trait initialization process\n",
    "\n",
    "1. Create a trait instance - triggered by `__init__` (e.g. the moment `Int(0)` is envoked a static default value is set).\n",
    "2. Initializing via the class - triggered by `class_init` (this is how traits know the classes they were defined on, and the names of the attributse to which they were assigned).\n",
    "3. Initializing via the subclass - triggered by `subclass_init` (not important to talk about now, but basically the same as `class_init` except that it's triggered whem a subclass of `self.this_class` is defined, and has access to the trait)\n",
    "4. Initializing via the instance - tiggered by `instance_init` (traits don't initialize instances with default values when they are created, but one could do that using this method)."
   ]
  },
  {
   "cell_type": "code",
   "execution_count": 39,
   "metadata": {
    "collapsed": false
   },
   "outputs": [],
   "source": [
    "class MyDescriptor(BaseDescriptor):\n",
    "    \n",
    "    def __init__(self):\n",
    "        print(\"__init__\", self)\n",
    "    \n",
    "    def class_init(self, cls, name):\n",
    "        print(\"class_init\", cls, name)\n",
    "        super(MyDescriptor, self).class_init(cls, name)\n",
    "    \n",
    "    def subclass_init(self, cls):\n",
    "        print(\"subclass_init\", cls)\n",
    "    \n",
    "    def instance_init(self, obj):\n",
    "        print(\"instance_init\", obj)\n"
   ]
  },
  {
   "cell_type": "code",
   "execution_count": 42,
   "metadata": {
    "collapsed": false
   },
   "outputs": [
    {
     "name": "stdout",
     "output_type": "stream",
     "text": [
      "__init__ <__main__.MyDescriptor object at 0x1110baeb8>\n",
      "done defining the class\n",
      "class_init <class '__main__.Parent'> x\n",
      "subclass_init <class '__main__.Parent'>\n"
     ]
    }
   ],
   "source": [
    "class Parent(HasDescriptors):\n",
    "    x = MyDescriptor()\n",
    "    print(\"done defining the class\")"
   ]
  },
  {
   "cell_type": "code",
   "execution_count": 47,
   "metadata": {
    "collapsed": false
   },
   "outputs": [
    {
     "name": "stdout",
     "output_type": "stream",
     "text": [
      "done defining the class\n",
      "subclass_init <class '__main__.Child'>\n"
     ]
    }
   ],
   "source": [
    "class Child(Parent):\n",
    "    print(\"done defining the class\")"
   ]
  },
  {
   "cell_type": "code",
   "execution_count": 51,
   "metadata": {
    "collapsed": false
   },
   "outputs": [
    {
     "name": "stdout",
     "output_type": "stream",
     "text": [
      "instance_init <__main__.Child object at 0x110d73ac8>\n"
     ]
    },
    {
     "data": {
      "text/plain": [
       "<__main__.Child at 0x110d73ac8>"
      ]
     },
     "execution_count": 51,
     "metadata": {},
     "output_type": "execute_result"
    }
   ],
   "source": [
    "Child()"
   ]
  },
  {
   "cell_type": "code",
   "execution_count": null,
   "metadata": {
    "collapsed": true
   },
   "outputs": [],
   "source": []
  }
 ],
 "metadata": {
  "kernelspec": {
   "display_name": "Python [conda root]",
   "language": "python",
   "name": "conda-root-py"
  },
  "language_info": {
   "codemirror_mode": {
    "name": "ipython",
    "version": 3
   },
   "file_extension": ".py",
   "mimetype": "text/x-python",
   "name": "python",
   "nbconvert_exporter": "python",
   "pygments_lexer": "ipython3",
   "version": "3.5.3"
  }
 },
 "nbformat": 4,
 "nbformat_minor": 2
}
